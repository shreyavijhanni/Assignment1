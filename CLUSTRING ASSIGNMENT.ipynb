{
  "metadata": {
    "kernelspec": {
      "name": "python",
      "display_name": "Pyolite",
      "language": "python"
    },
    "language_info": {
      "codemirror_mode": {
        "name": "python",
        "version": 3
      },
      "file_extension": ".py",
      "mimetype": "text/x-python",
      "name": "python",
      "nbconvert_exporter": "python",
      "pygments_lexer": "ipython3",
      "version": "3.8"
    },
    "colab": {
      "name": "Agglomerative Clustering (1).ipynb",
      "provenance": []
    }
  },
  "nbformat_minor": 0,
  "nbformat": 4,
  "cells": [
    {
      "cell_type": "code",
      "source": [
        ""
      ],
      "metadata": {
        "tags": [],
        "trusted": true,
        "id": "Sv1tEKSyOKIF"
      },
      "execution_count": 1,
      "outputs": []
    },
    {
      "cell_type": "code",
      "source": [
        "#Use to import pandas\n",
        "import pandas as pd\n",
        "#Use to import the file into google Colab drive\n",
        "from google.colab import files \n",
        "#Use to import io, which opens the file from the Colab drive\n",
        "import io"
      ],
      "metadata": {
        "id": "n33bfwwJOVd9"
      },
      "execution_count": 23,
      "outputs": []
    },
    {
      "cell_type": "code",
      "source": [
        "import os\n",
        "import numpy as np\n",
        "import matplotlib.pyplot as plt\n",
        "import seaborn as sns\n",
        "%matplotlib inline"
      ],
      "metadata": {
        "tags": [],
        "trusted": true,
        "id": "Rm8_H0rTOKIL"
      },
      "execution_count": 24,
      "outputs": []
    },
    {
      "cell_type": "code",
      "source": [
        "uploaded = files.upload()"
      ],
      "metadata": {
        "colab": {
          "resources": {
            "http://localhost:8080/nbextensions/google.colab/files.js": {
              "data": "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",
              "ok": true,
              "headers": [
                [
                  "content-type",
                  "application/javascript"
                ]
              ],
              "status": 200,
              "status_text": ""
            }
          },
          "base_uri": "https://localhost:8080/",
          "height": 73
        },
        "id": "xQnJOknaPcHT",
        "outputId": "9e1919ac-ee87-488d-8986-fc7611579a16"
      },
      "execution_count": 8,
      "outputs": [
        {
          "output_type": "display_data",
          "data": {
            "text/plain": [
              "<IPython.core.display.HTML object>"
            ],
            "text/html": [
              "\n",
              "     <input type=\"file\" id=\"files-28ed977b-aa6e-433c-a171-5efcabda0b1d\" name=\"files[]\" multiple disabled\n",
              "        style=\"border:none\" />\n",
              "     <output id=\"result-28ed977b-aa6e-433c-a171-5efcabda0b1d\">\n",
              "      Upload widget is only available when the cell has been executed in the\n",
              "      current browser session. Please rerun this cell to enable.\n",
              "      </output>\n",
              "      <script src=\"/nbextensions/google.colab/files.js\"></script> "
            ]
          },
          "metadata": {}
        },
        {
          "output_type": "stream",
          "name": "stdout",
          "text": [
            "Saving Water treatment data .csv to Water treatment data .csv\n"
          ]
        }
      ]
    },
    {
      "cell_type": "code",
      "source": [
        "data=pd.read_csv('Water treatment data .csv')"
      ],
      "metadata": {
        "tags": [],
        "trusted": true,
        "id": "f77zksQfOKIM"
      },
      "execution_count": 25,
      "outputs": []
    },
    {
      "cell_type": "code",
      "source": [
        "data.head()"
      ],
      "metadata": {
        "trusted": true,
        "colab": {
          "base_uri": "https://localhost:8080/",
          "height": 421
        },
        "id": "F4EJ3dfpOKIM",
        "outputId": "09566446-fd66-4e42-829f-4201042d0f4e"
      },
      "execution_count": 26,
      "outputs": [
        {
          "output_type": "execute_result",
          "data": {
            "text/plain": [
              "   N.Attrib 1 Q-E (input flow to plant) 2 ZN-E (input Zinc to plant)  \\\n",
              "0  D-1/3/90                       44101                          1.5   \n",
              "1  D-2/3/90                       39024                            3   \n",
              "2  D-4/3/90                       32229                            5   \n",
              "3  D-5/3/90                       35023                          3.5   \n",
              "4  D-6/3/90                       36924                          1.5   \n",
              "\n",
              "   3 PH-E (input pH to plant)  \\\n",
              "0                         7.8   \n",
              "1                         7.7   \n",
              "2                         7.6   \n",
              "3                         7.9   \n",
              "4                         8.0   \n",
              "\n",
              "  4 DBO-E (input Biological demand of oxygen to plant)  \\\n",
              "0                                                  ?     \n",
              "1                                                  ?     \n",
              "2                                                  ?     \n",
              "3                                                205     \n",
              "4                                                242     \n",
              "\n",
              "  5 DQO-E (input chemical demand of oxygen to plant)  \\\n",
              "0                                                407   \n",
              "1                                                443   \n",
              "2                                                528   \n",
              "3                                                588   \n",
              "4                                                496   \n",
              "\n",
              "  6 SS-E (input suspended solids to plant)  \\\n",
              "0                                      166   \n",
              "1                                      214   \n",
              "2                                      186   \n",
              "3                                      192   \n",
              "4                                      176   \n",
              "\n",
              "  7 SSV-E (input volatile supended solids to plant)  \\\n",
              "0                                              66.3   \n",
              "1                                              69.2   \n",
              "2                                              69.9   \n",
              "3                                              65.6   \n",
              "4                                              64.8   \n",
              "\n",
              "  8 SED-E (input sediments to plant)  9 COND-E (input conductivity to plant)  \\\n",
              "0                                4.5                                    2110   \n",
              "1                                6.5                                    2660   \n",
              "2                                3.4                                    1666   \n",
              "3                                4.5                                    2430   \n",
              "4                                  4                                    2110   \n",
              "\n",
              "   ...  29 COND-S (output conductivity)  \\\n",
              "0  ...                             2000   \n",
              "1  ...                             2590   \n",
              "2  ...                             1888   \n",
              "3  ...                             1840   \n",
              "4  ...                             2120   \n",
              "\n",
              "  30 RD-DBO-P (performance input Biological demand of oxygen in primary settler)  \\\n",
              "0                                                  ?                               \n",
              "1                                                  ?                               \n",
              "2                                                  ?                               \n",
              "3                                               33.1                               \n",
              "4                                                  ?                               \n",
              "\n",
              "   31 RD-SS-P (performance input suspended solids to primary settler)  \\\n",
              "0                                               58.8                    \n",
              "1                                               60.7                    \n",
              "2                                               58.2                    \n",
              "3                                               64.2                    \n",
              "4                                               62.7                    \n",
              "\n",
              "  32 RD-SED-P (performance input sediments to primary settler)  \\\n",
              "0                                               95.5             \n",
              "1                                               94.8             \n",
              "2                                               95.6             \n",
              "3                                               95.3             \n",
              "4                                               95.6             \n",
              "\n",
              "  33 RD-DBO-S (performance input Biological demand of oxygen to secondary settler)  \\\n",
              "0                                                  ?                                 \n",
              "1                                                  ?                                 \n",
              "2                                                  ?                                 \n",
              "3                                               87.3                                 \n",
              "4                                                  ?                                 \n",
              "\n",
              "   34 RD-DQO-S (performance input chemical demand of oxygen to secondary settler)  \\\n",
              "0                                                 70                                \n",
              "1                                               80.8                                \n",
              "2                                               52.9                                \n",
              "3                                               72.3                                \n",
              "4                                                 71                                \n",
              "\n",
              "   35 RD-DBO-G (global performance input Biological demand of oxygen)  \\\n",
              "0                                                  ?                    \n",
              "1                                                  ?                    \n",
              "2                                                  ?                    \n",
              "3                                               90.2                    \n",
              "4                                               92.1                    \n",
              "\n",
              "  36 RD-DQO-G (global performance input chemical demand of oxygen)  \\\n",
              "0                                               79.4                 \n",
              "1                                               79.5                 \n",
              "2                                               75.8                 \n",
              "3                                               82.3                 \n",
              "4                                               78.2                 \n",
              "\n",
              "  37 RD-SS-G (global performance input suspended solids)  \\\n",
              "0                                               87.3       \n",
              "1                                               92.1       \n",
              "2                                               88.7       \n",
              "3                                               89.6       \n",
              "4                                               87.5       \n",
              "\n",
              "  38 RD-SED-G (global performance input sediments)  \n",
              "0                                             99.6  \n",
              "1                                              100  \n",
              "2                                             98.5  \n",
              "3                                              100  \n",
              "4                                             99.5  \n",
              "\n",
              "[5 rows x 39 columns]"
            ],
            "text/html": [
              "\n",
              "  <div id=\"df-050fe95e-69b3-40d3-afef-a71398020e2e\">\n",
              "    <div class=\"colab-df-container\">\n",
              "      <div>\n",
              "<style scoped>\n",
              "    .dataframe tbody tr th:only-of-type {\n",
              "        vertical-align: middle;\n",
              "    }\n",
              "\n",
              "    .dataframe tbody tr th {\n",
              "        vertical-align: top;\n",
              "    }\n",
              "\n",
              "    .dataframe thead th {\n",
              "        text-align: right;\n",
              "    }\n",
              "</style>\n",
              "<table border=\"1\" class=\"dataframe\">\n",
              "  <thead>\n",
              "    <tr style=\"text-align: right;\">\n",
              "      <th></th>\n",
              "      <th>N.Attrib</th>\n",
              "      <th>1 Q-E (input flow to plant)</th>\n",
              "      <th>2 ZN-E (input Zinc to plant)</th>\n",
              "      <th>3 PH-E (input pH to plant)</th>\n",
              "      <th>4 DBO-E (input Biological demand of oxygen to plant)</th>\n",
              "      <th>5 DQO-E (input chemical demand of oxygen to plant)</th>\n",
              "      <th>6 SS-E (input suspended solids to plant)</th>\n",
              "      <th>7 SSV-E (input volatile supended solids to plant)</th>\n",
              "      <th>8 SED-E (input sediments to plant)</th>\n",
              "      <th>9 COND-E (input conductivity to plant)</th>\n",
              "      <th>...</th>\n",
              "      <th>29 COND-S (output conductivity)</th>\n",
              "      <th>30 RD-DBO-P (performance input Biological demand of oxygen in primary settler)</th>\n",
              "      <th>31 RD-SS-P (performance input suspended solids to primary settler)</th>\n",
              "      <th>32 RD-SED-P (performance input sediments to primary settler)</th>\n",
              "      <th>33 RD-DBO-S (performance input Biological demand of oxygen to secondary settler)</th>\n",
              "      <th>34 RD-DQO-S (performance input chemical demand of oxygen to secondary settler)</th>\n",
              "      <th>35 RD-DBO-G (global performance input Biological demand of oxygen)</th>\n",
              "      <th>36 RD-DQO-G (global performance input chemical demand of oxygen)</th>\n",
              "      <th>37 RD-SS-G (global performance input suspended solids)</th>\n",
              "      <th>38 RD-SED-G (global performance input sediments)</th>\n",
              "    </tr>\n",
              "  </thead>\n",
              "  <tbody>\n",
              "    <tr>\n",
              "      <th>0</th>\n",
              "      <td>D-1/3/90</td>\n",
              "      <td>44101</td>\n",
              "      <td>1.5</td>\n",
              "      <td>7.8</td>\n",
              "      <td>?</td>\n",
              "      <td>407</td>\n",
              "      <td>166</td>\n",
              "      <td>66.3</td>\n",
              "      <td>4.5</td>\n",
              "      <td>2110</td>\n",
              "      <td>...</td>\n",
              "      <td>2000</td>\n",
              "      <td>?</td>\n",
              "      <td>58.8</td>\n",
              "      <td>95.5</td>\n",
              "      <td>?</td>\n",
              "      <td>70</td>\n",
              "      <td>?</td>\n",
              "      <td>79.4</td>\n",
              "      <td>87.3</td>\n",
              "      <td>99.6</td>\n",
              "    </tr>\n",
              "    <tr>\n",
              "      <th>1</th>\n",
              "      <td>D-2/3/90</td>\n",
              "      <td>39024</td>\n",
              "      <td>3</td>\n",
              "      <td>7.7</td>\n",
              "      <td>?</td>\n",
              "      <td>443</td>\n",
              "      <td>214</td>\n",
              "      <td>69.2</td>\n",
              "      <td>6.5</td>\n",
              "      <td>2660</td>\n",
              "      <td>...</td>\n",
              "      <td>2590</td>\n",
              "      <td>?</td>\n",
              "      <td>60.7</td>\n",
              "      <td>94.8</td>\n",
              "      <td>?</td>\n",
              "      <td>80.8</td>\n",
              "      <td>?</td>\n",
              "      <td>79.5</td>\n",
              "      <td>92.1</td>\n",
              "      <td>100</td>\n",
              "    </tr>\n",
              "    <tr>\n",
              "      <th>2</th>\n",
              "      <td>D-4/3/90</td>\n",
              "      <td>32229</td>\n",
              "      <td>5</td>\n",
              "      <td>7.6</td>\n",
              "      <td>?</td>\n",
              "      <td>528</td>\n",
              "      <td>186</td>\n",
              "      <td>69.9</td>\n",
              "      <td>3.4</td>\n",
              "      <td>1666</td>\n",
              "      <td>...</td>\n",
              "      <td>1888</td>\n",
              "      <td>?</td>\n",
              "      <td>58.2</td>\n",
              "      <td>95.6</td>\n",
              "      <td>?</td>\n",
              "      <td>52.9</td>\n",
              "      <td>?</td>\n",
              "      <td>75.8</td>\n",
              "      <td>88.7</td>\n",
              "      <td>98.5</td>\n",
              "    </tr>\n",
              "    <tr>\n",
              "      <th>3</th>\n",
              "      <td>D-5/3/90</td>\n",
              "      <td>35023</td>\n",
              "      <td>3.5</td>\n",
              "      <td>7.9</td>\n",
              "      <td>205</td>\n",
              "      <td>588</td>\n",
              "      <td>192</td>\n",
              "      <td>65.6</td>\n",
              "      <td>4.5</td>\n",
              "      <td>2430</td>\n",
              "      <td>...</td>\n",
              "      <td>1840</td>\n",
              "      <td>33.1</td>\n",
              "      <td>64.2</td>\n",
              "      <td>95.3</td>\n",
              "      <td>87.3</td>\n",
              "      <td>72.3</td>\n",
              "      <td>90.2</td>\n",
              "      <td>82.3</td>\n",
              "      <td>89.6</td>\n",
              "      <td>100</td>\n",
              "    </tr>\n",
              "    <tr>\n",
              "      <th>4</th>\n",
              "      <td>D-6/3/90</td>\n",
              "      <td>36924</td>\n",
              "      <td>1.5</td>\n",
              "      <td>8.0</td>\n",
              "      <td>242</td>\n",
              "      <td>496</td>\n",
              "      <td>176</td>\n",
              "      <td>64.8</td>\n",
              "      <td>4</td>\n",
              "      <td>2110</td>\n",
              "      <td>...</td>\n",
              "      <td>2120</td>\n",
              "      <td>?</td>\n",
              "      <td>62.7</td>\n",
              "      <td>95.6</td>\n",
              "      <td>?</td>\n",
              "      <td>71</td>\n",
              "      <td>92.1</td>\n",
              "      <td>78.2</td>\n",
              "      <td>87.5</td>\n",
              "      <td>99.5</td>\n",
              "    </tr>\n",
              "  </tbody>\n",
              "</table>\n",
              "<p>5 rows × 39 columns</p>\n",
              "</div>\n",
              "      <button class=\"colab-df-convert\" onclick=\"convertToInteractive('df-050fe95e-69b3-40d3-afef-a71398020e2e')\"\n",
              "              title=\"Convert this dataframe to an interactive table.\"\n",
              "              style=\"display:none;\">\n",
              "        \n",
              "  <svg xmlns=\"http://www.w3.org/2000/svg\" height=\"24px\"viewBox=\"0 0 24 24\"\n",
              "       width=\"24px\">\n",
              "    <path d=\"M0 0h24v24H0V0z\" fill=\"none\"/>\n",
              "    <path d=\"M18.56 5.44l.94 2.06.94-2.06 2.06-.94-2.06-.94-.94-2.06-.94 2.06-2.06.94zm-11 1L8.5 8.5l.94-2.06 2.06-.94-2.06-.94L8.5 2.5l-.94 2.06-2.06.94zm10 10l.94 2.06.94-2.06 2.06-.94-2.06-.94-.94-2.06-.94 2.06-2.06.94z\"/><path d=\"M17.41 7.96l-1.37-1.37c-.4-.4-.92-.59-1.43-.59-.52 0-1.04.2-1.43.59L10.3 9.45l-7.72 7.72c-.78.78-.78 2.05 0 2.83L4 21.41c.39.39.9.59 1.41.59.51 0 1.02-.2 1.41-.59l7.78-7.78 2.81-2.81c.8-.78.8-2.07 0-2.86zM5.41 20L4 18.59l7.72-7.72 1.47 1.35L5.41 20z\"/>\n",
              "  </svg>\n",
              "      </button>\n",
              "      \n",
              "  <style>\n",
              "    .colab-df-container {\n",
              "      display:flex;\n",
              "      flex-wrap:wrap;\n",
              "      gap: 12px;\n",
              "    }\n",
              "\n",
              "    .colab-df-convert {\n",
              "      background-color: #E8F0FE;\n",
              "      border: none;\n",
              "      border-radius: 50%;\n",
              "      cursor: pointer;\n",
              "      display: none;\n",
              "      fill: #1967D2;\n",
              "      height: 32px;\n",
              "      padding: 0 0 0 0;\n",
              "      width: 32px;\n",
              "    }\n",
              "\n",
              "    .colab-df-convert:hover {\n",
              "      background-color: #E2EBFA;\n",
              "      box-shadow: 0px 1px 2px rgba(60, 64, 67, 0.3), 0px 1px 3px 1px rgba(60, 64, 67, 0.15);\n",
              "      fill: #174EA6;\n",
              "    }\n",
              "\n",
              "    [theme=dark] .colab-df-convert {\n",
              "      background-color: #3B4455;\n",
              "      fill: #D2E3FC;\n",
              "    }\n",
              "\n",
              "    [theme=dark] .colab-df-convert:hover {\n",
              "      background-color: #434B5C;\n",
              "      box-shadow: 0px 1px 3px 1px rgba(0, 0, 0, 0.15);\n",
              "      filter: drop-shadow(0px 1px 2px rgba(0, 0, 0, 0.3));\n",
              "      fill: #FFFFFF;\n",
              "    }\n",
              "  </style>\n",
              "\n",
              "      <script>\n",
              "        const buttonEl =\n",
              "          document.querySelector('#df-050fe95e-69b3-40d3-afef-a71398020e2e button.colab-df-convert');\n",
              "        buttonEl.style.display =\n",
              "          google.colab.kernel.accessAllowed ? 'block' : 'none';\n",
              "\n",
              "        async function convertToInteractive(key) {\n",
              "          const element = document.querySelector('#df-050fe95e-69b3-40d3-afef-a71398020e2e');\n",
              "          const dataTable =\n",
              "            await google.colab.kernel.invokeFunction('convertToInteractive',\n",
              "                                                     [key], {});\n",
              "          if (!dataTable) return;\n",
              "\n",
              "          const docLinkHtml = 'Like what you see? Visit the ' +\n",
              "            '<a target=\"_blank\" href=https://colab.research.google.com/notebooks/data_table.ipynb>data table notebook</a>'\n",
              "            + ' to learn more about interactive tables.';\n",
              "          element.innerHTML = '';\n",
              "          dataTable['output_type'] = 'display_data';\n",
              "          await google.colab.output.renderOutput(dataTable, element);\n",
              "          const docLink = document.createElement('div');\n",
              "          docLink.innerHTML = docLinkHtml;\n",
              "          element.appendChild(docLink);\n",
              "        }\n",
              "      </script>\n",
              "    </div>\n",
              "  </div>\n",
              "  "
            ]
          },
          "metadata": {},
          "execution_count": 26
        }
      ]
    },
    {
      "cell_type": "code",
      "source": [
        "data.drop(columns='N.Attrib',axis=1,inplace=True)"
      ],
      "metadata": {
        "id": "OssPOg56OKIN"
      },
      "execution_count": 28,
      "outputs": []
    },
    {
      "cell_type": "code",
      "source": [
        "data=data.replace('?',0)\n",
        "data.head()"
      ],
      "metadata": {
        "colab": {
          "base_uri": "https://localhost:8080/",
          "height": 421
        },
        "id": "KaNzxSspSQbK",
        "outputId": "d88463c7-a8ee-4c5e-92d6-e3d8801320aa"
      },
      "execution_count": 31,
      "outputs": [
        {
          "output_type": "execute_result",
          "data": {
            "text/plain": [
              "  1 Q-E (input flow to plant) 2 ZN-E (input Zinc to plant)  \\\n",
              "0                       44101                          1.5   \n",
              "1                       39024                            3   \n",
              "2                       32229                            5   \n",
              "3                       35023                          3.5   \n",
              "4                       36924                          1.5   \n",
              "\n",
              "   3 PH-E (input pH to plant)  \\\n",
              "0                         7.8   \n",
              "1                         7.7   \n",
              "2                         7.6   \n",
              "3                         7.9   \n",
              "4                         8.0   \n",
              "\n",
              "  4 DBO-E (input Biological demand of oxygen to plant)  \\\n",
              "0                                                  0     \n",
              "1                                                  0     \n",
              "2                                                  0     \n",
              "3                                                205     \n",
              "4                                                242     \n",
              "\n",
              "  5 DQO-E (input chemical demand of oxygen to plant)  \\\n",
              "0                                                407   \n",
              "1                                                443   \n",
              "2                                                528   \n",
              "3                                                588   \n",
              "4                                                496   \n",
              "\n",
              "  6 SS-E (input suspended solids to plant)  \\\n",
              "0                                      166   \n",
              "1                                      214   \n",
              "2                                      186   \n",
              "3                                      192   \n",
              "4                                      176   \n",
              "\n",
              "  7 SSV-E (input volatile supended solids to plant)  \\\n",
              "0                                              66.3   \n",
              "1                                              69.2   \n",
              "2                                              69.9   \n",
              "3                                              65.6   \n",
              "4                                              64.8   \n",
              "\n",
              "  8 SED-E (input sediments to plant)  9 COND-E (input conductivity to plant)  \\\n",
              "0                                4.5                                    2110   \n",
              "1                                6.5                                    2660   \n",
              "2                                3.4                                    1666   \n",
              "3                                4.5                                    2430   \n",
              "4                                  4                                    2110   \n",
              "\n",
              "   10 PH-P (input pH to primary settler)  ... 29 COND-S (output conductivity)  \\\n",
              "0                                    7.9  ...                            2000   \n",
              "1                                    7.7  ...                            2590   \n",
              "2                                    7.7  ...                            1888   \n",
              "3                                    7.8  ...                            1840   \n",
              "4                                    7.9  ...                            2120   \n",
              "\n",
              "   30 RD-DBO-P (performance input Biological demand of oxygen in primary settler)  \\\n",
              "0                                                  0                                \n",
              "1                                                  0                                \n",
              "2                                                  0                                \n",
              "3                                               33.1                                \n",
              "4                                                  0                                \n",
              "\n",
              "  31 RD-SS-P (performance input suspended solids to primary settler)  \\\n",
              "0                                               58.8                   \n",
              "1                                               60.7                   \n",
              "2                                               58.2                   \n",
              "3                                               64.2                   \n",
              "4                                               62.7                   \n",
              "\n",
              "  32 RD-SED-P (performance input sediments to primary settler)  \\\n",
              "0                                               95.5             \n",
              "1                                               94.8             \n",
              "2                                               95.6             \n",
              "3                                               95.3             \n",
              "4                                               95.6             \n",
              "\n",
              "   33 RD-DBO-S (performance input Biological demand of oxygen to secondary settler)  \\\n",
              "0                                                  0                                  \n",
              "1                                                  0                                  \n",
              "2                                                  0                                  \n",
              "3                                               87.3                                  \n",
              "4                                                  0                                  \n",
              "\n",
              "   34 RD-DQO-S (performance input chemical demand of oxygen to secondary settler)  \\\n",
              "0                                                 70                                \n",
              "1                                               80.8                                \n",
              "2                                               52.9                                \n",
              "3                                               72.3                                \n",
              "4                                                 71                                \n",
              "\n",
              "  35 RD-DBO-G (global performance input Biological demand of oxygen)  \\\n",
              "0                                                  0                   \n",
              "1                                                  0                   \n",
              "2                                                  0                   \n",
              "3                                               90.2                   \n",
              "4                                               92.1                   \n",
              "\n",
              "  36 RD-DQO-G (global performance input chemical demand of oxygen)  \\\n",
              "0                                               79.4                 \n",
              "1                                               79.5                 \n",
              "2                                               75.8                 \n",
              "3                                               82.3                 \n",
              "4                                               78.2                 \n",
              "\n",
              "  37 RD-SS-G (global performance input suspended solids)  \\\n",
              "0                                               87.3       \n",
              "1                                               92.1       \n",
              "2                                               88.7       \n",
              "3                                               89.6       \n",
              "4                                               87.5       \n",
              "\n",
              "  38 RD-SED-G (global performance input sediments)  \n",
              "0                                             99.6  \n",
              "1                                              100  \n",
              "2                                             98.5  \n",
              "3                                              100  \n",
              "4                                             99.5  \n",
              "\n",
              "[5 rows x 38 columns]"
            ],
            "text/html": [
              "\n",
              "  <div id=\"df-1221dce8-39fa-4b02-92e5-15ba54dd9b7c\">\n",
              "    <div class=\"colab-df-container\">\n",
              "      <div>\n",
              "<style scoped>\n",
              "    .dataframe tbody tr th:only-of-type {\n",
              "        vertical-align: middle;\n",
              "    }\n",
              "\n",
              "    .dataframe tbody tr th {\n",
              "        vertical-align: top;\n",
              "    }\n",
              "\n",
              "    .dataframe thead th {\n",
              "        text-align: right;\n",
              "    }\n",
              "</style>\n",
              "<table border=\"1\" class=\"dataframe\">\n",
              "  <thead>\n",
              "    <tr style=\"text-align: right;\">\n",
              "      <th></th>\n",
              "      <th>1 Q-E (input flow to plant)</th>\n",
              "      <th>2 ZN-E (input Zinc to plant)</th>\n",
              "      <th>3 PH-E (input pH to plant)</th>\n",
              "      <th>4 DBO-E (input Biological demand of oxygen to plant)</th>\n",
              "      <th>5 DQO-E (input chemical demand of oxygen to plant)</th>\n",
              "      <th>6 SS-E (input suspended solids to plant)</th>\n",
              "      <th>7 SSV-E (input volatile supended solids to plant)</th>\n",
              "      <th>8 SED-E (input sediments to plant)</th>\n",
              "      <th>9 COND-E (input conductivity to plant)</th>\n",
              "      <th>10 PH-P (input pH to primary settler)</th>\n",
              "      <th>...</th>\n",
              "      <th>29 COND-S (output conductivity)</th>\n",
              "      <th>30 RD-DBO-P (performance input Biological demand of oxygen in primary settler)</th>\n",
              "      <th>31 RD-SS-P (performance input suspended solids to primary settler)</th>\n",
              "      <th>32 RD-SED-P (performance input sediments to primary settler)</th>\n",
              "      <th>33 RD-DBO-S (performance input Biological demand of oxygen to secondary settler)</th>\n",
              "      <th>34 RD-DQO-S (performance input chemical demand of oxygen to secondary settler)</th>\n",
              "      <th>35 RD-DBO-G (global performance input Biological demand of oxygen)</th>\n",
              "      <th>36 RD-DQO-G (global performance input chemical demand of oxygen)</th>\n",
              "      <th>37 RD-SS-G (global performance input suspended solids)</th>\n",
              "      <th>38 RD-SED-G (global performance input sediments)</th>\n",
              "    </tr>\n",
              "  </thead>\n",
              "  <tbody>\n",
              "    <tr>\n",
              "      <th>0</th>\n",
              "      <td>44101</td>\n",
              "      <td>1.5</td>\n",
              "      <td>7.8</td>\n",
              "      <td>0</td>\n",
              "      <td>407</td>\n",
              "      <td>166</td>\n",
              "      <td>66.3</td>\n",
              "      <td>4.5</td>\n",
              "      <td>2110</td>\n",
              "      <td>7.9</td>\n",
              "      <td>...</td>\n",
              "      <td>2000</td>\n",
              "      <td>0</td>\n",
              "      <td>58.8</td>\n",
              "      <td>95.5</td>\n",
              "      <td>0</td>\n",
              "      <td>70</td>\n",
              "      <td>0</td>\n",
              "      <td>79.4</td>\n",
              "      <td>87.3</td>\n",
              "      <td>99.6</td>\n",
              "    </tr>\n",
              "    <tr>\n",
              "      <th>1</th>\n",
              "      <td>39024</td>\n",
              "      <td>3</td>\n",
              "      <td>7.7</td>\n",
              "      <td>0</td>\n",
              "      <td>443</td>\n",
              "      <td>214</td>\n",
              "      <td>69.2</td>\n",
              "      <td>6.5</td>\n",
              "      <td>2660</td>\n",
              "      <td>7.7</td>\n",
              "      <td>...</td>\n",
              "      <td>2590</td>\n",
              "      <td>0</td>\n",
              "      <td>60.7</td>\n",
              "      <td>94.8</td>\n",
              "      <td>0</td>\n",
              "      <td>80.8</td>\n",
              "      <td>0</td>\n",
              "      <td>79.5</td>\n",
              "      <td>92.1</td>\n",
              "      <td>100</td>\n",
              "    </tr>\n",
              "    <tr>\n",
              "      <th>2</th>\n",
              "      <td>32229</td>\n",
              "      <td>5</td>\n",
              "      <td>7.6</td>\n",
              "      <td>0</td>\n",
              "      <td>528</td>\n",
              "      <td>186</td>\n",
              "      <td>69.9</td>\n",
              "      <td>3.4</td>\n",
              "      <td>1666</td>\n",
              "      <td>7.7</td>\n",
              "      <td>...</td>\n",
              "      <td>1888</td>\n",
              "      <td>0</td>\n",
              "      <td>58.2</td>\n",
              "      <td>95.6</td>\n",
              "      <td>0</td>\n",
              "      <td>52.9</td>\n",
              "      <td>0</td>\n",
              "      <td>75.8</td>\n",
              "      <td>88.7</td>\n",
              "      <td>98.5</td>\n",
              "    </tr>\n",
              "    <tr>\n",
              "      <th>3</th>\n",
              "      <td>35023</td>\n",
              "      <td>3.5</td>\n",
              "      <td>7.9</td>\n",
              "      <td>205</td>\n",
              "      <td>588</td>\n",
              "      <td>192</td>\n",
              "      <td>65.6</td>\n",
              "      <td>4.5</td>\n",
              "      <td>2430</td>\n",
              "      <td>7.8</td>\n",
              "      <td>...</td>\n",
              "      <td>1840</td>\n",
              "      <td>33.1</td>\n",
              "      <td>64.2</td>\n",
              "      <td>95.3</td>\n",
              "      <td>87.3</td>\n",
              "      <td>72.3</td>\n",
              "      <td>90.2</td>\n",
              "      <td>82.3</td>\n",
              "      <td>89.6</td>\n",
              "      <td>100</td>\n",
              "    </tr>\n",
              "    <tr>\n",
              "      <th>4</th>\n",
              "      <td>36924</td>\n",
              "      <td>1.5</td>\n",
              "      <td>8.0</td>\n",
              "      <td>242</td>\n",
              "      <td>496</td>\n",
              "      <td>176</td>\n",
              "      <td>64.8</td>\n",
              "      <td>4</td>\n",
              "      <td>2110</td>\n",
              "      <td>7.9</td>\n",
              "      <td>...</td>\n",
              "      <td>2120</td>\n",
              "      <td>0</td>\n",
              "      <td>62.7</td>\n",
              "      <td>95.6</td>\n",
              "      <td>0</td>\n",
              "      <td>71</td>\n",
              "      <td>92.1</td>\n",
              "      <td>78.2</td>\n",
              "      <td>87.5</td>\n",
              "      <td>99.5</td>\n",
              "    </tr>\n",
              "  </tbody>\n",
              "</table>\n",
              "<p>5 rows × 38 columns</p>\n",
              "</div>\n",
              "      <button class=\"colab-df-convert\" onclick=\"convertToInteractive('df-1221dce8-39fa-4b02-92e5-15ba54dd9b7c')\"\n",
              "              title=\"Convert this dataframe to an interactive table.\"\n",
              "              style=\"display:none;\">\n",
              "        \n",
              "  <svg xmlns=\"http://www.w3.org/2000/svg\" height=\"24px\"viewBox=\"0 0 24 24\"\n",
              "       width=\"24px\">\n",
              "    <path d=\"M0 0h24v24H0V0z\" fill=\"none\"/>\n",
              "    <path d=\"M18.56 5.44l.94 2.06.94-2.06 2.06-.94-2.06-.94-.94-2.06-.94 2.06-2.06.94zm-11 1L8.5 8.5l.94-2.06 2.06-.94-2.06-.94L8.5 2.5l-.94 2.06-2.06.94zm10 10l.94 2.06.94-2.06 2.06-.94-2.06-.94-.94-2.06-.94 2.06-2.06.94z\"/><path d=\"M17.41 7.96l-1.37-1.37c-.4-.4-.92-.59-1.43-.59-.52 0-1.04.2-1.43.59L10.3 9.45l-7.72 7.72c-.78.78-.78 2.05 0 2.83L4 21.41c.39.39.9.59 1.41.59.51 0 1.02-.2 1.41-.59l7.78-7.78 2.81-2.81c.8-.78.8-2.07 0-2.86zM5.41 20L4 18.59l7.72-7.72 1.47 1.35L5.41 20z\"/>\n",
              "  </svg>\n",
              "      </button>\n",
              "      \n",
              "  <style>\n",
              "    .colab-df-container {\n",
              "      display:flex;\n",
              "      flex-wrap:wrap;\n",
              "      gap: 12px;\n",
              "    }\n",
              "\n",
              "    .colab-df-convert {\n",
              "      background-color: #E8F0FE;\n",
              "      border: none;\n",
              "      border-radius: 50%;\n",
              "      cursor: pointer;\n",
              "      display: none;\n",
              "      fill: #1967D2;\n",
              "      height: 32px;\n",
              "      padding: 0 0 0 0;\n",
              "      width: 32px;\n",
              "    }\n",
              "\n",
              "    .colab-df-convert:hover {\n",
              "      background-color: #E2EBFA;\n",
              "      box-shadow: 0px 1px 2px rgba(60, 64, 67, 0.3), 0px 1px 3px 1px rgba(60, 64, 67, 0.15);\n",
              "      fill: #174EA6;\n",
              "    }\n",
              "\n",
              "    [theme=dark] .colab-df-convert {\n",
              "      background-color: #3B4455;\n",
              "      fill: #D2E3FC;\n",
              "    }\n",
              "\n",
              "    [theme=dark] .colab-df-convert:hover {\n",
              "      background-color: #434B5C;\n",
              "      box-shadow: 0px 1px 3px 1px rgba(0, 0, 0, 0.15);\n",
              "      filter: drop-shadow(0px 1px 2px rgba(0, 0, 0, 0.3));\n",
              "      fill: #FFFFFF;\n",
              "    }\n",
              "  </style>\n",
              "\n",
              "      <script>\n",
              "        const buttonEl =\n",
              "          document.querySelector('#df-1221dce8-39fa-4b02-92e5-15ba54dd9b7c button.colab-df-convert');\n",
              "        buttonEl.style.display =\n",
              "          google.colab.kernel.accessAllowed ? 'block' : 'none';\n",
              "\n",
              "        async function convertToInteractive(key) {\n",
              "          const element = document.querySelector('#df-1221dce8-39fa-4b02-92e5-15ba54dd9b7c');\n",
              "          const dataTable =\n",
              "            await google.colab.kernel.invokeFunction('convertToInteractive',\n",
              "                                                     [key], {});\n",
              "          if (!dataTable) return;\n",
              "\n",
              "          const docLinkHtml = 'Like what you see? Visit the ' +\n",
              "            '<a target=\"_blank\" href=https://colab.research.google.com/notebooks/data_table.ipynb>data table notebook</a>'\n",
              "            + ' to learn more about interactive tables.';\n",
              "          element.innerHTML = '';\n",
              "          dataTable['output_type'] = 'display_data';\n",
              "          await google.colab.output.renderOutput(dataTable, element);\n",
              "          const docLink = document.createElement('div');\n",
              "          docLink.innerHTML = docLinkHtml;\n",
              "          element.appendChild(docLink);\n",
              "        }\n",
              "      </script>\n",
              "    </div>\n",
              "  </div>\n",
              "  "
            ]
          },
          "metadata": {},
          "execution_count": 31
        }
      ]
    },
    {
      "cell_type": "code",
      "source": [
        "data.isnull().sum()"
      ],
      "metadata": {
        "colab": {
          "base_uri": "https://localhost:8080/"
        },
        "id": "ZqhEceFhOKIN",
        "outputId": "9b98724c-012e-42b7-80c1-fdf559b0da3b"
      },
      "execution_count": 32,
      "outputs": [
        {
          "output_type": "execute_result",
          "data": {
            "text/plain": [
              "1 Q-E (input flow to plant)                                                         0\n",
              "2 ZN-E (input Zinc to plant)                                                        0\n",
              "3 PH-E (input pH to plant)                                                          0\n",
              "4 DBO-E (input Biological demand of oxygen to plant)                                0\n",
              "5 DQO-E (input chemical demand of oxygen to plant)                                  0\n",
              "6 SS-E (input suspended solids to plant)                                            0\n",
              "7 SSV-E (input volatile supended solids to plant)                                   0\n",
              "8 SED-E (input sediments to plant)                                                  0\n",
              "9 COND-E (input conductivity to plant)                                              0\n",
              "10 PH-P (input pH to primary settler)                                               0\n",
              "11 DBO-P (input Biological demand of oxygen to primary settler)                     0\n",
              "12 SS-P (input suspended solids to primary settler)                                 0\n",
              "13 SSV-P (input volatile supended solids to primary settler)                        0\n",
              "14 SED-P (input sediments to primary settler)                                       0\n",
              "15 COND-P (input conductivity to primary settler)                                   0\n",
              "16 PH-D (input pH to secondary settler)                                             0\n",
              "17 DBO-D (input Biological demand of oxygen to secondary settler)                   0\n",
              "18 DQO-D (input chemical demand of oxygen to secondary settler)                     0\n",
              "19 SS-D (input suspended solids to secondary settler)                               0\n",
              "20 SSV-D (input volatile supended solids to secondary settler)                      0\n",
              "21 SED-D (input sediments to secondary settler)                                     0\n",
              "22 COND-D (input conductivity to secondary settler)                                 0\n",
              "23 PH-S (output pH)                                                                 0\n",
              "24 DBO-S (output Biological demand of oxygen)                                       0\n",
              "25 DQO-S (output chemical demand of oxygen)                                         0\n",
              "26 SS-S (output suspended solids)                                                   0\n",
              "27 SSV-S (output volatile supended solids)                                          0\n",
              "28 SED-S (output sediments)                                                         0\n",
              "29 COND-S (output conductivity)                                                     0\n",
              "30 RD-DBO-P (performance input Biological demand of oxygen in primary settler)      0\n",
              "31 RD-SS-P (performance input suspended solids to primary settler)                  0\n",
              "32 RD-SED-P (performance input sediments to primary settler)                        0\n",
              "33 RD-DBO-S (performance input Biological demand of oxygen to secondary settler)    0\n",
              "34 RD-DQO-S (performance input chemical demand of oxygen to secondary settler)      0\n",
              "35 RD-DBO-G (global performance input Biological demand of oxygen)                  0\n",
              "36 RD-DQO-G (global performance input chemical demand of oxygen)                    0\n",
              "37 RD-SS-G (global performance input suspended solids)                              0\n",
              "38 RD-SED-G (global performance input sediments)                                    0\n",
              "dtype: int64"
            ]
          },
          "metadata": {},
          "execution_count": 32
        }
      ]
    },
    {
      "cell_type": "code",
      "source": [
        "data = data.dropna()"
      ],
      "metadata": {
        "id": "8-rZg81pOKIP"
      },
      "execution_count": 33,
      "outputs": []
    },
    {
      "cell_type": "code",
      "source": [
        "data.info()"
      ],
      "metadata": {
        "colab": {
          "base_uri": "https://localhost:8080/"
        },
        "id": "29PviVBJOKIP",
        "outputId": "f8e825ce-535f-4b3d-9303-687a1eef820a"
      },
      "execution_count": 34,
      "outputs": [
        {
          "output_type": "stream",
          "name": "stdout",
          "text": [
            "<class 'pandas.core.frame.DataFrame'>\n",
            "Int64Index: 527 entries, 0 to 526\n",
            "Data columns (total 38 columns):\n",
            " #   Column                                                                            Non-Null Count  Dtype  \n",
            "---  ------                                                                            --------------  -----  \n",
            " 0   1 Q-E (input flow to plant)                                                       527 non-null    object \n",
            " 1   2 ZN-E (input Zinc to plant)                                                      527 non-null    object \n",
            " 2   3 PH-E (input pH to plant)                                                        527 non-null    float64\n",
            " 3   4 DBO-E (input Biological demand of oxygen to plant)                              527 non-null    object \n",
            " 4   5 DQO-E (input chemical demand of oxygen to plant)                                527 non-null    object \n",
            " 5   6 SS-E (input suspended solids to plant)                                          527 non-null    object \n",
            " 6   7 SSV-E (input volatile supended solids to plant)                                 527 non-null    object \n",
            " 7   8 SED-E (input sediments to plant)                                                527 non-null    object \n",
            " 8   9 COND-E (input conductivity to plant)                                            527 non-null    int64  \n",
            " 9   10 PH-P (input pH to primary settler)                                             527 non-null    float64\n",
            " 10  11 DBO-P (input Biological demand of oxygen to primary settler)                   527 non-null    object \n",
            " 11  12 SS-P (input suspended solids to primary settler)                               527 non-null    int64  \n",
            " 12  13 SSV-P (input volatile supended solids to primary settler)                      527 non-null    object \n",
            " 13  14 SED-P (input sediments to primary settler)                                     527 non-null    object \n",
            " 14  15 COND-P (input conductivity to primary settler)                                 527 non-null    int64  \n",
            " 15  16 PH-D (input pH to secondary settler)                                           527 non-null    float64\n",
            " 16  17 DBO-D (input Biological demand of oxygen to secondary settler)                 527 non-null    object \n",
            " 17  18 DQO-D (input chemical demand of oxygen to secondary settler)                   527 non-null    object \n",
            " 18  19 SS-D (input suspended solids to secondary settler)                             527 non-null    object \n",
            " 19  20 SSV-D (input volatile supended solids to secondary settler)                    527 non-null    object \n",
            " 20  21 SED-D (input sediments to secondary settler)                                   527 non-null    object \n",
            " 21  22 COND-D (input conductivity to secondary settler)                               527 non-null    int64  \n",
            " 22  23 PH-S (output pH)                                                               527 non-null    object \n",
            " 23  24 DBO-S (output Biological demand of oxygen)                                     527 non-null    object \n",
            " 24  25 DQO-S (output chemical demand of oxygen)                                       527 non-null    object \n",
            " 25  26 SS-S (output suspended solids)                                                 527 non-null    object \n",
            " 26  27 SSV-S (output volatile supended solids)                                        527 non-null    object \n",
            " 27  28 SED-S (output sediments)                                                       527 non-null    object \n",
            " 28  29 COND-S (output conductivity)                                                   527 non-null    object \n",
            " 29  30 RD-DBO-P (performance input Biological demand of oxygen in primary settler)    527 non-null    object \n",
            " 30  31 RD-SS-P (performance input suspended solids to primary settler)                527 non-null    object \n",
            " 31  32 RD-SED-P (performance input sediments to primary settler)                      527 non-null    object \n",
            " 32  33 RD-DBO-S (performance input Biological demand of oxygen to secondary settler)  527 non-null    object \n",
            " 33  34 RD-DQO-S (performance input chemical demand of oxygen to secondary settler)    527 non-null    object \n",
            " 34  35 RD-DBO-G (global performance input Biological demand of oxygen)                527 non-null    object \n",
            " 35  36 RD-DQO-G (global performance input chemical demand of oxygen)                  527 non-null    object \n",
            " 36  37 RD-SS-G (global performance input suspended solids)                            527 non-null    object \n",
            " 37  38 RD-SED-G (global performance input sediments)                                  527 non-null    object \n",
            "dtypes: float64(3), int64(4), object(31)\n",
            "memory usage: 160.6+ KB\n"
          ]
        }
      ]
    },
    {
      "cell_type": "code",
      "source": [
        "fig = plt.figure()\n",
        "# Create an axes instance\n",
        "ax = fig.add_axes([0,0,1,1])\n",
        "# Create the boxplot\n",
        "ax.boxplot(data['10 PH-P (input pH to primary settler)'])\n",
        "plt.show()"
      ],
      "metadata": {
        "tags": [],
        "colab": {
          "base_uri": "https://localhost:8080/",
          "height": 336
        },
        "id": "iU6tc4hZOKIQ",
        "outputId": "152f29b2-7d54-4d0d-ad5b-3618a7b0dcaf"
      },
      "execution_count": 35,
      "outputs": [
        {
          "output_type": "display_data",
          "data": {
            "text/plain": [
              "<Figure size 432x288 with 1 Axes>"
            ],
            "image/png": "[encoded data removed]"
          },
          "metadata": {
            "needs_background": "light"
          }
        }
      ]
    },
    {
      "cell_type": "code",
      "source": [
        "import seaborn as sns\n",
        "sns.heatmap(data.corr());"
      ],
      "metadata": {
        "colab": {
          "base_uri": "https://localhost:8080/",
          "height": 521
        },
        "id": "gl7jPay2WRez",
        "outputId": "21c85be3-a6a5-41f9-c17a-e9d9f96f86bc"
      },
      "execution_count": 49,
      "outputs": [
        {
          "output_type": "display_data",
          "data": {
            "text/plain": [
              "<Figure size 432x288 with 2 Axes>"
            ],
            "image/png": "[encoded data removed]"
          },
          "metadata": {
            "needs_background": "light"
          }
        }
      ]
    },
    {
      "cell_type": "code",
      "source": [
        "sns.pairplot(data, hue=\"29 COND-S (output conductivity)\", diag_kind=\"hist\", height=1.6);"
      ],
      "metadata": {
        "colab": {
          "base_uri": "https://localhost:8080/"
        },
        "id": "ZqVfnX79OKIR",
        "outputId": "c106ad75-dd4b-4e71-b91f-ff7a0117cf85"
      },
      "execution_count": null,
      "outputs": [
        {
          "output_type": "stream",
          "name": "stderr",
          "text": [
            "/usr/local/lib/python3.7/dist-packages/seaborn/axisgrid.py:88: UserWarning: Tight layout not applied. tight_layout cannot make axes width small enough to accommodate all axes decorations\n",
            "  self._figure.tight_layout(*args, **kwargs)\n"
          ]
        }
      ]
    },
    {
      "cell_type": "code",
      "source": [
        "data.shape"
      ],
      "metadata": {
        "colab": {
          "base_uri": "https://localhost:8080/"
        },
        "id": "Opt5E0YdOKIR",
        "outputId": "931926c7-0f58-4256-c53e-cb3eeb8daa9d"
      },
      "execution_count": 17,
      "outputs": [
        {
          "output_type": "execute_result",
          "data": {
            "text/plain": [
              "(527, 38)"
            ]
          },
          "metadata": {},
          "execution_count": 17
        }
      ]
    },
    {
      "cell_type": "code",
      "source": [
        "X = data.iloc[:,0:4]\n",
        "y = data.iloc[:,-1]\n",
        "print(X.sample(5))\n",
        "print(y.sample(5))"
      ],
      "metadata": {
        "colab": {
          "base_uri": "https://localhost:8080/"
        },
        "id": "OYNdsGS1OKIS",
        "outputId": "7889226e-4ca5-40d9-f3c5-3947618ea0ad"
      },
      "execution_count": 36,
      "outputs": [
        {
          "output_type": "stream",
          "name": "stdout",
          "text": [
            "    1 Q-E (input flow to plant) 2 ZN-E (input Zinc to plant)  \\\n",
            "214                       38905                          0.3   \n",
            "280                       45469                         1.97   \n",
            "252                       42394                         1.51   \n",
            "351                       34322                            3   \n",
            "406                       43082                         0.68   \n",
            "\n",
            "     3 PH-E (input pH to plant)  \\\n",
            "214                         7.7   \n",
            "280                         7.3   \n",
            "252                         8.2   \n",
            "351                         8.4   \n",
            "406                         7.8   \n",
            "\n",
            "    4 DBO-E (input Biological demand of oxygen to plant)  \n",
            "214                                                 58    \n",
            "280                                                129    \n",
            "252                                                241    \n",
            "351                                                249    \n",
            "406                                                173    \n",
            "119     100\n",
            "507    99.3\n",
            "260    99.6\n",
            "165    99.7\n",
            "269     100\n",
            "Name: 38 RD-SED-G (global performance input sediments), dtype: object\n"
          ]
        }
      ]
    },
    {
      "cell_type": "code",
      "source": [
        "from sklearn import preprocessing\n",
        "\n",
        "scaler = preprocessing.StandardScaler()\n",
        "\n",
        "scaler.fit(data)\n",
        "X_scaled = scaler.transform(data)"
      ],
      "metadata": {
        "id": "jVZe6A16OKIT"
      },
      "execution_count": 41,
      "outputs": []
    },
    {
      "cell_type": "code",
      "source": [
        "from sklearn.cluster import KMeans\n",
        "wcss=[]\n",
        "\n",
        "#we always assume the max number of cluster would be 10\n",
        "#you can judge the number of clusters by doing averaging\n",
        "###Static code to get max no of clusters\n",
        "\n",
        "for i in range(1,11):\n",
        "    kmeans = KMeans(n_clusters= i, init='k-means++', random_state=0)\n",
        "    kmeans.fit(X)\n",
        "    wcss.append(kmeans.inertia_)"
      ],
      "metadata": {
        "id": "hMC5cGuPVLAE"
      },
      "execution_count": 46,
      "outputs": []
    },
    {
      "cell_type": "code",
      "source": [
        "plt.plot(range(1,11), wcss)\n",
        "plt.title('The Elbow Method')\n",
        "plt.xlabel('no of clusters')\n",
        "plt.ylabel('wcss')\n",
        "plt.show()"
      ],
      "metadata": {
        "colab": {
          "base_uri": "https://localhost:8080/",
          "height": 295
        },
        "id": "OhxV5mWUVCIk",
        "outputId": "40a2be49-7145-4637-aac9-07a75efbfb0d"
      },
      "execution_count": 47,
      "outputs": [
        {
          "output_type": "display_data",
          "data": {
            "text/plain": [
              "<Figure size 432x288 with 1 Axes>"
            ],
            "image/png": "[encoded data removed]"
          },
          "metadata": {
            "needs_background": "light"
          }
        }
      ]
    },
    {
      "cell_type": "code",
      "source": [
        "from sklearn.metrics import silhouette_score\n",
        "silhouette_scores = [] \n",
        "\n",
        "for n_cluster in range(2,15):\n",
        "    silhouette_scores.append( \n",
        "        silhouette_score(X_scaled, KMeans(n_clusters = n_cluster).fit_predict(X_scaled))) \n",
        "    \n",
        "# Plotting a bar graph to compare the results \n",
        "k = [2, 3, 4, 5, 6,7,8,9,10,11,12,13,14] \n",
        "plt.bar(k, silhouette_scores) \n",
        "plt.xlabel('Number of clusters', fontsize = 10) \n",
        "plt.ylabel('Silhouette Score', fontsize = 10) \n",
        "plt.grid()\n",
        "plt.show() "
      ],
      "metadata": {
        "colab": {
          "base_uri": "https://localhost:8080/",
          "height": 279
        },
        "id": "GPG2W-xbWB1I",
        "outputId": "e8244f03-1d4b-47f9-acee-16a056e3684f"
      },
      "execution_count": 48,
      "outputs": [
        {
          "output_type": "display_data",
          "data": {
            "text/plain": [
              "<Figure size 432x288 with 1 Axes>"
            ],
            "image/png": "[encoded data removed]"
          },
          "metadata": {
            "needs_background": "light"
          }
        }
      ]
    },
    {
      "cell_type": "code",
      "source": [
        "from sklearn.cluster import KMeans\n",
        "\n",
        "nclusters = 2 # this is the k in kmeans\n",
        "seed = 0\n",
        "\n",
        "km = KMeans(n_clusters=nclusters, random_state=seed)\n",
        "km.fit(X_scaled)\n",
        "\n",
        "# predict the cluster for each data point\n",
        "y_cluster_kmeans = km.predict(X_scaled)\n",
        "y_cluster_kmeans"
      ],
      "metadata": {
        "colab": {
          "base_uri": "https://localhost:8080/"
        },
        "id": "Zz_LCSQwOKIT",
        "outputId": "9d315230-8a65-4084-a511-54d90624af21"
      },
      "execution_count": 50,
      "outputs": [
        {
          "output_type": "execute_result",
          "data": {
            "text/plain": [
              "array([0, 1, 0, 1, 1, 1, 1, 1, 0, 1, 1, 0, 0, 1, 0, 1, 0, 1, 1, 1, 0, 1,\n",
              "       1, 1, 1, 1, 0, 0, 0, 1, 1, 1, 1, 1, 0, 1, 1, 1, 1, 1, 0, 1, 1, 1,\n",
              "       1, 0, 0, 0, 0, 0, 1, 1, 1, 0, 1, 1, 1, 1, 1, 1, 1, 1, 1, 0, 1, 0,\n",
              "       1, 1, 1, 1, 0, 0, 1, 1, 0, 0, 0, 0, 1, 1, 1, 1, 1, 0, 1, 1, 0, 0,\n",
              "       0, 1, 1, 1, 1, 1, 0, 0, 1, 0, 0, 0, 0, 1, 1, 0, 0, 1, 1, 1, 0, 1,\n",
              "       0, 1, 1, 0, 1, 1, 0, 0, 0, 0, 0, 0, 0, 0, 0, 1, 0, 0, 0, 0, 1, 0,\n",
              "       0, 1, 1, 1, 0, 0, 0, 1, 0, 0, 0, 0, 0, 1, 1, 1, 0, 0, 1, 0, 1, 0,\n",
              "       1, 0, 0, 0, 0, 1, 1, 0, 1, 1, 1, 1, 1, 1, 1, 1, 1, 0, 0, 0, 0, 1,\n",
              "       0, 0, 0, 0, 0, 0, 0, 0, 1, 1, 1, 0, 0, 0, 0, 0, 0, 0, 1, 0, 0, 0,\n",
              "       1, 0, 1, 1, 1, 0, 0, 0, 0, 0, 0, 0, 0, 0, 0, 0, 0, 0, 0, 0, 1, 0,\n",
              "       0, 0, 0, 0, 0, 0, 1, 1, 1, 1, 1, 1, 1, 1, 1, 1, 1, 1, 1, 1, 1, 1,\n",
              "       1, 1, 0, 1, 1, 0, 1, 0, 0, 0, 1, 1, 1, 1, 0, 0, 1, 1, 1, 1, 1, 1,\n",
              "       0, 1, 1, 1, 1, 1, 1, 1, 1, 1, 1, 0, 0, 1, 1, 1, 0, 0, 0, 1, 0, 0,\n",
              "       0, 1, 0, 1, 1, 0, 0, 0, 1, 1, 1, 0, 0, 0, 1, 1, 1, 1, 1, 0, 0, 0,\n",
              "       1, 1, 1, 1, 1, 1, 0, 1, 1, 1, 1, 0, 0, 0, 0, 0, 0, 1, 0, 1, 1, 1,\n",
              "       1, 1, 1, 1, 1, 1, 1, 1, 0, 1, 1, 1, 0, 1, 1, 1, 1, 1, 1, 1, 1, 1,\n",
              "       1, 1, 1, 1, 1, 0, 0, 1, 1, 1, 1, 1, 0, 1, 1, 1, 1, 1, 1, 1, 1, 1,\n",
              "       1, 0, 0, 0, 0, 1, 1, 0, 0, 0, 0, 0, 1, 1, 1, 1, 0, 0, 1, 1, 0, 0,\n",
              "       0, 1, 1, 1, 1, 1, 0, 1, 1, 1, 1, 1, 1, 1, 1, 1, 0, 0, 1, 1, 1, 1,\n",
              "       1, 0, 0, 0, 1, 1, 0, 0, 1, 1, 0, 0, 0, 0, 0, 0, 0, 0, 0, 1, 0, 1,\n",
              "       1, 0, 0, 0, 0, 1, 1, 0, 1, 0, 0, 0, 0, 0, 0, 1, 1, 1, 1, 0, 0, 1,\n",
              "       1, 1, 0, 0, 1, 1, 0, 1, 1, 0, 0, 0, 1, 1, 0, 0, 0, 0, 0, 0, 0, 0,\n",
              "       0, 0, 0, 0, 0, 1, 0, 1, 1, 1, 0, 0, 0, 0, 0, 0, 0, 1, 0, 0, 0, 0,\n",
              "       0, 0, 0, 0, 0, 0, 0, 0, 0, 0, 0, 0, 0, 0, 0, 0, 0, 0, 0, 0, 0],\n",
              "      dtype=int32)"
            ]
          },
          "metadata": {},
          "execution_count": 50
        }
      ]
    },
    {
      "cell_type": "code",
      "source": [
        "from sklearn import metrics\n",
        "score = metrics.silhouette_score(X_scaled, y_cluster_kmeans)\n",
        "score"
      ],
      "metadata": {
        "colab": {
          "base_uri": "https://localhost:8080/"
        },
        "id": "6sliA8zeOKIU",
        "outputId": "bf7a2876-706c-4741-edeb-4a3ff00286f8"
      },
      "execution_count": 44,
      "outputs": [
        {
          "output_type": "execute_result",
          "data": {
            "text/plain": [
              "0.11099273006726113"
            ]
          },
          "metadata": {},
          "execution_count": 44
        }
      ]
    },
    {
      "cell_type": "code",
      "source": [
        "from sklearn.cluster import AgglomerativeClustering\n",
        "hc = AgglomerativeClustering(n_clusters = 2, affinity = \"euclidean\", linkage = \"ward\")\n",
        "cluster = hc.fit_predict(data)\n",
        "data[\"label\"] = cluster"
      ],
      "metadata": {
        "id": "PZHsqamHXzT7"
      },
      "execution_count": 51,
      "outputs": []
    },
    {
      "cell_type": "code",
      "source": [
        "from scipy.cluster.hierarchy import linkage,dendrogram\n",
        "merg = linkage(data, method = \"ward\")\n",
        "dendrogram(merg, leaf_rotation = 90)\n",
        "plt.xlabel(\"data points\")\n",
        "plt.ylabel(\"euclidean distance\")\n",
        "plt.show()"
      ],
      "metadata": {
        "colab": {
          "base_uri": "https://localhost:8080/",
          "height": 279
        },
        "id": "eenK9nbKYAMn",
        "outputId": "a7726611-6b28-4678-ca01-04aed968c9e7"
      },
      "execution_count": 52,
      "outputs": [
        {
          "output_type": "display_data",
          "data": {
            "text/plain": [
              "<Figure size 432x288 with 1 Axes>"
            ],
            "image/png": "[encoded data removed]"
          },
          "metadata": {
            "needs_background": "light"
          }
        }
      ]
    },
    {
      "cell_type": "code",
      "source": [
        ""
      ],
      "metadata": {
        "id": "-0ajeVleOKIU"
      },
      "execution_count": null,
      "outputs": []
    }
  ]
}